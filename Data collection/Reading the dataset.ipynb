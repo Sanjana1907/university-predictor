{
 "cells": [
  {
   "cell_type": "markdown",
   "id": "77391884",
   "metadata": {},
   "source": [
    "# IBM-Project-9130-1658982501"
   ]
  },
  {
   "cell_type": "markdown",
   "id": "e207c3e0",
   "metadata": {},
   "source": [
    "## University Admit Eligibility Predictor "
   ]
  },
  {
   "cell_type": "markdown",
   "id": "130a759c",
   "metadata": {},
   "source": [
    "## Importing The Libraries"
   ]
  },
  {
   "cell_type": "code",
   "execution_count": 2,
   "id": "0def4823",
   "metadata": {},
   "outputs": [],
   "source": [
    "import numpy as np\n",
    "import pandas as pd\n",
    "import seaborn as sns\n",
    "import matplotlib.pyplot as plt\n",
    "%matplotlib inline"
   ]
  },
  {
   "cell_type": "markdown",
   "id": "ab3577ec",
   "metadata": {},
   "source": [
    "## Reading the dataset"
   ]
  },
  {
   "cell_type": "code",
   "execution_count": 3,
   "id": "1a7041ee",
   "metadata": {},
   "outputs": [],
   "source": [
    "df=pd.read_csv(\"data.csv\")"
   ]
  }
 ],
 "metadata": {
  "kernelspec": {
   "display_name": "Python 3 (ipykernel)",
   "language": "python",
   "name": "python3"
  },
  "language_info": {
   "codemirror_mode": {
    "name": "ipython",
    "version": 3
   },
   "file_extension": ".py",
   "mimetype": "text/x-python",
   "name": "python",
   "nbconvert_exporter": "python",
   "pygments_lexer": "ipython3",
   "version": "3.9.7"
  }
 },
 "nbformat": 4,
 "nbformat_minor": 5
}
